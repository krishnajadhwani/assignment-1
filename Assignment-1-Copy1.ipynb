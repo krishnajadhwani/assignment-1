{
 "cells": [
  {
   "cell_type": "markdown",
   "id": "07f98a95-4e19-4cf9-8593-a12465cac924",
   "metadata": {},
   "source": [
    "Q1. explain with an example each when to use a dor loop and while loop\n",
    "\n",
    "Answer- 1.Both for loops and while loops are used for iteration in programming. The choice between them depends on the specific situation and the problem you're trying to solve. Here are examples of when to use each type of loop:\n",
    "\n",
    "for loop: Use a for loop when you know the number of iterations in advance or when you need to iterate over a sequence (e.g., a list, array, or string) and perform a task for each item in that sequence. Example: Calculating the sum of numbers in a list\n",
    "\n",
    "example-"
   ]
  },
  {
   "cell_type": "code",
   "execution_count": 1,
   "id": "3f903b4b-31f5-47e7-8af5-b85cc9f10b66",
   "metadata": {},
   "outputs": [
    {
     "name": "stdout",
     "output_type": "stream",
     "text": [
      "15\n"
     ]
    }
   ],
   "source": [
    "numbers = [1, 2, 3, 4, 5]\n",
    "sum_of_numbers = 0\n",
    "\n",
    "for num in numbers:\n",
    "    sum_of_numbers += num\n",
    "\n",
    "print(sum_of_numbers)"
   ]
  },
  {
   "cell_type": "markdown",
   "id": "fb5c3d9b-86d2-4c81-8576-130a78f4ec1e",
   "metadata": {},
   "source": [
    "2.while loop: Use a while loop when you don't know the exact number of iterations in advance, but you want to continue iterating until a certain condition becomes false. Example: Counting the number of digits in a number."
   ]
  },
  {
   "cell_type": "code",
   "execution_count": 2,
   "id": "8967cdbe-c59d-4e15-abf3-cf2e9133acc3",
   "metadata": {},
   "outputs": [
    {
     "name": "stdout",
     "output_type": "stream",
     "text": [
      "5\n"
     ]
    }
   ],
   "source": [
    "number = 54321\n",
    "count = 0\n",
    "\n",
    "while number != 0:\n",
    "    number //= 10\n",
    "    count += 1\n",
    "\n",
    "print(count)"
   ]
  },
  {
   "cell_type": "markdown",
   "id": "6f5b7fd8-0441-4f8a-958e-90d62b3ad785",
   "metadata": {},
   "source": [
    "Q2 write a python program to print the sum and product of the first 10 natural number using for and while loop."
   ]
  },
  {
   "cell_type": "code",
   "execution_count": 3,
   "id": "3633a0ea-199a-4e4e-b4b3-e527b50e9dba",
   "metadata": {},
   "outputs": [
    {
     "name": "stdout",
     "output_type": "stream",
     "text": [
      "Sum using for loop: 70\n",
      "Product using for loop: 3628800\n"
     ]
    }
   ],
   "source": [
    "um_of_numbers = 0\n",
    "for num in range(1, 11):\n",
    "    sum_of_numbers += num\n",
    "\n",
    "# Product using for loop\n",
    "product_of_numbers = 1\n",
    "for num in range(1, 11):\n",
    "    product_of_numbers *= num\n",
    "\n",
    "print(\"Sum using for loop:\", sum_of_numbers)\n",
    "print(\"Product using for loop:\", product_of_numbers)"
   ]
  },
  {
   "cell_type": "code",
   "execution_count": 4,
   "id": "c52c43db-b125-4434-8003-35701d183dc3",
   "metadata": {},
   "outputs": [
    {
     "name": "stdout",
     "output_type": "stream",
     "text": [
      "Sum using while loop: 55\n",
      "Product using while loop: 3628800\n"
     ]
    }
   ],
   "source": [
    "# Sum using while loop\n",
    "sum_of_numbers = 0\n",
    "counter = 1\n",
    "while counter <= 10:\n",
    "    sum_of_numbers += counter\n",
    "    counter += 1\n",
    "\n",
    "# Product using while loop\n",
    "product_of_numbers = 1\n",
    "counter = 1\n",
    "while counter <= 10:\n",
    "    product_of_numbers *= counter\n",
    "    counter += 1\n",
    "\n",
    "print(\"Sum using while loop:\", sum_of_numbers)\n",
    "print(\"Product using while loop:\", product_of_numbers)"
   ]
  },
  {
   "cell_type": "markdown",
   "id": "e508fa33-4e0b-48bb-99f8-f5c3d38687ff",
   "metadata": {},
   "source": [
    "Q2. create a python program to compute  the electricity bill for a household..  the per unit charge in rupees are as follow: for the first 100 units, and for the next 100 units, the user will be charge rs. 10 per unit, after 300 units and above the user will charged rs 20 per unit."
   ]
  },
  {
   "cell_type": "code",
   "execution_count": 5,
   "id": "3bdc9675-6f51-41fd-8a1a-e465c2787033",
   "metadata": {},
   "outputs": [
    {
     "name": "stdin",
     "output_type": "stream",
     "text": [
      "Enter the total number of units consumed:  75\n"
     ]
    },
    {
     "name": "stdout",
     "output_type": "stream",
     "text": [
      "Electricity Bill: Rs. 375\n"
     ]
    }
   ],
   "source": [
    "def calculate_electricity_bill(units):\n",
    "    if units <= 100:\n",
    "        # For the first 100 units, the charge is Rs. 5 per unit\n",
    "        total_bill = units * 5\n",
    "    elif units <= 200:\n",
    "        # For the next 100 units, the charge is Rs. 10 per unit\n",
    "        total_bill = 100 * 5 + (units - 100) * 10\n",
    "    else:\n",
    "        # For units above 200, the charge is Rs. 20 per unit\n",
    "        total_bill = 100 * 5 + 100 * 10 + (units - 200) * 20\n",
    "    return total_bill\n",
    "\n",
    "def main():\n",
    "    try:\n",
    "        units_consumed = int(input(\"Enter the total number of units consumed: \"))\n",
    "        if units_consumed < 0:\n",
    "            print(\"Invalid input! Units consumed cannot be negative.\")\n",
    "        else:\n",
    "            bill_amount = calculate_electricity_bill(units_consumed)\n",
    "            print(\"Electricity Bill: Rs. {}\".format(bill_amount))\n",
    "    except ValueError:\n",
    "        print(\"Invalid input! Please enter a valid number of units.\")\n",
    "\n",
    "if __name__ == \"__main__\":\n",
    "    main()"
   ]
  },
  {
   "cell_type": "markdown",
   "id": "8c3a0927-cf07-4cfd-b655-6680db7b2cf2",
   "metadata": {},
   "source": [
    " Q4. create a  list of numbers  from  1to 100. use for loop and while loop to calculate the cube of each number and if the cube of that number is divisible by 4 to 5 then append that number in a list and print that list"
   ]
  },
  {
   "cell_type": "code",
   "execution_count": 6,
   "id": "2f121e41-f6e2-4058-a0bc-d06a7e7d34b6",
   "metadata": {},
   "outputs": [
    {
     "name": "stdout",
     "output_type": "stream",
     "text": [
      "Numbers whose cube is divisible by both 4 and 5: [10, 20, 30, 40, 50, 60, 70, 80, 90, 100]\n"
     ]
    }
   ],
   "source": [
    "# Using for loop\n",
    "numbers_list = list(range(1, 101))\n",
    "cubes_divisible_by_4_and_5 = []\n",
    "\n",
    "for num in numbers_list:\n",
    "    cube = num ** 3\n",
    "    if cube % 4 == 0 and cube % 5 == 0:\n",
    "        cubes_divisible_by_4_and_5.append(num)\n",
    "\n",
    "print(\"Numbers whose cube is divisible by both 4 and 5:\", cubes_divisible_by_4_and_5)"
   ]
  },
  {
   "cell_type": "code",
   "execution_count": 7,
   "id": "357011e8-45b5-4c0c-84c6-1913a225e975",
   "metadata": {},
   "outputs": [
    {
     "name": "stdout",
     "output_type": "stream",
     "text": [
      "Numbers whose cube is divisible by both 4 and 5: [10, 20, 30, 40, 50, 60, 70, 80, 90, 100]\n"
     ]
    }
   ],
   "source": [
    "# Using while loop\n",
    "numbers_list = list(range(1, 101))\n",
    "cubes_divisible_by_4_and_5 = []\n",
    "\n",
    "counter = 0\n",
    "while counter < len(numbers_list):\n",
    "    num = numbers_list[counter]\n",
    "    cube = num ** 3\n",
    "    if cube % 4 == 0 and cube % 5 == 0:\n",
    "        cubes_divisible_by_4_and_5.append(num)\n",
    "    counter += 1\n",
    "\n",
    "print(\"Numbers whose cube is divisible by both 4 and 5:\", cubes_divisible_by_4_and_5)"
   ]
  },
  {
   "cell_type": "code",
   "execution_count": null,
   "id": "41ec7289-4429-42d3-9ddb-b6bc0b022af9",
   "metadata": {},
   "outputs": [],
   "source": [
    "Q5. write a program to fliter count vowels n the below -given string. String =\"i want to bec\""
   ]
  }
 ],
 "metadata": {
  "kernelspec": {
   "display_name": "Python 3 (ipykernel)",
   "language": "python",
   "name": "python3"
  },
  "language_info": {
   "codemirror_mode": {
    "name": "ipython",
    "version": 3
   },
   "file_extension": ".py",
   "mimetype": "text/x-python",
   "name": "python",
   "nbconvert_exporter": "python",
   "pygments_lexer": "ipython3",
   "version": "3.10.8"
  }
 },
 "nbformat": 4,
 "nbformat_minor": 5
}
